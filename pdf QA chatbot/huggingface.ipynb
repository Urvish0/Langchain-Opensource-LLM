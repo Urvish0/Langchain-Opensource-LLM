{
 "cells": [
  {
   "cell_type": "code",
   "execution_count": 1,
   "metadata": {},
   "outputs": [],
   "source": [
    "from langchain_community.document_loaders import PyPDFLoader\n",
    "from langchain_community.document_loaders import PyPDFDirectoryLoader\n",
    "from langchain.text_splitter import RecursiveCharacterTextSplitter\n",
    "from langchain_community.vectorstores import FAISS \n",
    "from langchain_community.embeddings import HuggingFaceEmbeddings\n",
    "from langchain_huggingface import HuggingFaceEndpoint\n",
    "from langchain.prompts import PromptTemplate\n",
    "from langchain.chains import RetrievalQA"
   ]
  },
  {
   "cell_type": "code",
   "execution_count": 2,
   "metadata": {},
   "outputs": [
    {
     "name": "stderr",
     "output_type": "stream",
     "text": [
      "d:\\Artificial Intelligence\\Langchain\\venv\\lib\\site-packages\\tqdm\\auto.py:21: TqdmWarning: IProgress not found. Please update jupyter and ipywidgets. See https://ipywidgets.readthedocs.io/en/stable/user_install.html\n",
      "  from .autonotebook import tqdm as notebook_tqdm\n"
     ]
    },
    {
     "name": "stdout",
     "output_type": "stream",
     "text": [
      "The token has not been saved to the git credentials helper. Pass `add_to_git_credential=True` in this function directly or `--add-to-git-credential` if using via `huggingface-cli` if you want to set the git credential as well.\n",
      "Token is valid (permission: fineGrained).\n",
      "Your token has been saved to C:\\Users\\praja\\.cache\\huggingface\\token\n",
      "Login successful\n"
     ]
    }
   ],
   "source": [
    "import os \n",
    "from dotenv import load_dotenv\n",
    "\n",
    "load_dotenv()\n",
    "\n",
    "os.environ['HUGGINGFACEHUB_API_TOKEN'] = os.getenv(\"HUGGINGFACE_API_KEY\")\n",
    "repo_id = \"mistralai/Mistral-7B-Instruct-v0.2\"\n",
    "hf_endpoint = HuggingFaceEndpoint(\n",
    "        repo_id=repo_id, \n",
    "        temperature=0.7, \n",
    "        model_kwargs={\n",
    "            \"max_length\": 128,\n",
    "            \"token\": os.getenv(\"HUGGINGFACE_API_KEY\")\n",
    "        }\n",
    ")"
   ]
  },
  {
   "cell_type": "code",
   "execution_count": 3,
   "metadata": {},
   "outputs": [
    {
     "data": {
      "text/plain": [
       "Document(metadata={'source': 'us_census\\\\acsbr-015.pdf', 'page': 0}, page_content='Health Insurance Coverage Status and Type \\nby Geography: 2021 and 2022\\nAmerican Community Survey Briefs\\nACSBR-015Issued September 2023Douglas Conway and Breauna Branch\\nINTRODUCTION\\nDemographic shifts as well as economic and govern-\\nment policy changes can affect people’s access to health coverage. For example, between 2021 and 2022, the labor market continued to improve, which may have affected private coverage in the United States \\nduring that time.\\n1 Public policy changes included \\nthe renewal of the Public Health Emergency, which \\nallowed Medicaid enrollees to remain covered under the Continuous Enrollment Provision.\\n2 The American \\nRescue Plan (ARP) enhanced Marketplace premium subsidies for those with incomes above 400 percent of the poverty level as well as for unemployed people.\\n3')"
      ]
     },
     "execution_count": 3,
     "metadata": {},
     "output_type": "execute_result"
    }
   ],
   "source": [
    "## Reading PDF\n",
    "loader = PyPDFDirectoryLoader(\"./us_census\")\n",
    "documents = loader.load()\n",
    "text_splitter = RecursiveCharacterTextSplitter(chunk_size=1000, chunk_overlap=200)\n",
    "final_documents = text_splitter.split_documents(documents)\n",
    "final_documents[0]"
   ]
  },
  {
   "cell_type": "code",
   "execution_count": 4,
   "metadata": {},
   "outputs": [
    {
     "data": {
      "text/plain": [
       "316"
      ]
     },
     "execution_count": 4,
     "metadata": {},
     "output_type": "execute_result"
    }
   ],
   "source": [
    "len(final_documents)"
   ]
  },
  {
   "cell_type": "code",
   "execution_count": 5,
   "metadata": {},
   "outputs": [
    {
     "name": "stderr",
     "output_type": "stream",
     "text": [
      "d:\\Artificial Intelligence\\Langchain\\venv\\lib\\site-packages\\langchain_core\\_api\\deprecation.py:139: LangChainDeprecationWarning: The class `HuggingFaceEmbeddings` was deprecated in LangChain 0.2.2 and will be removed in 0.3.0. An updated version of the class exists in the langchain-huggingface package and should be used instead. To use it run `pip install -U langchain-huggingface` and import as `from langchain_huggingface import HuggingFaceEmbeddings`.\n",
      "  warn_deprecated(\n"
     ]
    }
   ],
   "source": [
    "## Embedding using huggingface\n",
    "huggingface_embeddings = HuggingFaceEmbeddings(\n",
    "    model_name=\"BAAI/bge-small-en-v1.5\",\n",
    "    model_kwargs = {'device':'cpu'},\n",
    "    encode_kwargs = {'normalize_embeddings': True}\n",
    ")"
   ]
  },
  {
   "cell_type": "code",
   "execution_count": 6,
   "metadata": {},
   "outputs": [
    {
     "name": "stdout",
     "output_type": "stream",
     "text": [
      "[-7.81247616e-02 -1.76957175e-02 -2.55395658e-02  3.16485763e-02\n",
      "  4.89566736e-02  5.73916174e-02 -3.41920033e-02  2.61430740e-02\n",
      " -9.73034576e-02 -2.28453092e-02  7.35054389e-02  5.15418313e-02\n",
      " -1.08876415e-02 -3.11451592e-02  3.21608013e-03  4.89183404e-02\n",
      " -1.29311113e-02 -1.42324355e-03 -3.19031030e-02  2.54794918e-02\n",
      " -3.13170627e-02  3.35001610e-02 -2.71926597e-02 -4.65959162e-02\n",
      "  1.61344819e-02  1.42099615e-02 -7.43198767e-03  1.13745006e-02\n",
      " -5.09818681e-02 -1.41039535e-01  4.36505163e-03  2.54208110e-02\n",
      " -5.71403578e-02 -1.06509784e-02  2.70821042e-02  1.18388301e-02\n",
      " -2.27215737e-02  7.71624669e-02  4.27384116e-02  6.18330874e-02\n",
      " -3.68240029e-02  4.53973282e-03 -2.01893449e-02 -4.70244093e-03\n",
      " -2.41782796e-02 -5.31012702e-05 -3.19753811e-02 -4.51394590e-03\n",
      "  3.41201713e-03 -5.89688532e-02  2.63294522e-02 -8.91791284e-03\n",
      "  5.06487861e-02  6.75783232e-02  6.58879504e-02 -4.71076407e-02\n",
      "  2.60821413e-02 -2.50376314e-02 -4.24258560e-02  3.94773558e-02\n",
      "  4.30341326e-02 -3.05914879e-03 -2.54018188e-01  9.78376195e-02\n",
      "  3.80830630e-03  5.17532155e-02 -8.52784328e-03 -5.16662514e-03\n",
      " -1.26971072e-02 -4.98781316e-02 -6.95901737e-02  4.68832515e-02\n",
      " -5.29112034e-02  1.23205204e-02  4.23077755e-02  2.68690512e-02\n",
      "  9.91752022e-04  4.65207128e-03  2.35590171e-02 -6.82713091e-03\n",
      "  2.77275387e-02  3.04744784e-02 -5.07143373e-03 -4.87570390e-02\n",
      "  4.65190932e-02 -9.62209478e-02  5.39404601e-02 -4.13245223e-02\n",
      "  2.67015211e-02 -2.31748223e-02 -3.70870158e-02  5.25659183e-03\n",
      " -1.77893951e-03  4.62044924e-02  8.91939458e-03  3.03580370e-02\n",
      "  5.64758852e-03 -9.07962117e-03 -2.31863949e-02  3.48599046e-01\n",
      " -2.24079769e-02  1.17084710e-02 -2.65765097e-03  1.97460577e-02\n",
      " -3.89648392e-03 -6.07787371e-02 -2.72692088e-03 -2.46992498e-03\n",
      "  2.28305645e-02  2.43423600e-02  1.76881086e-02 -2.82149725e-02\n",
      "  3.21700387e-02  4.11932655e-02 -4.03737128e-02 -1.63817853e-02\n",
      "  3.43866497e-02  1.64802428e-02  1.02738135e-01 -2.25198921e-02\n",
      " -9.27474070e-03  1.88899543e-02 -5.46728121e-03 -4.33605500e-02\n",
      "  2.41941921e-02  5.93903251e-02  4.94766757e-02  1.43657416e-01\n",
      "  1.92426275e-02 -3.24023552e-02  1.00246653e-01 -2.70331018e-02\n",
      " -6.44379994e-03  8.90877284e-03  3.66607611e-03  6.26657205e-03\n",
      " -2.73957290e-02  4.70563434e-02 -4.28212248e-03  4.65563759e-02\n",
      "  5.79229416e-03 -1.28825214e-02  2.35025724e-03 -1.45889923e-01\n",
      " -3.15612033e-02  1.90610826e-01 -3.73011529e-02  4.59098704e-02\n",
      "  3.35219391e-02 -1.46755734e-02 -3.79796140e-02  5.42248785e-02\n",
      " -2.19602194e-02  3.59708108e-02 -3.32793109e-02  2.20534727e-02\n",
      " -3.03291623e-03  2.65264213e-02 -2.28263754e-02 -5.64958900e-02\n",
      "  6.15023002e-02 -2.97976118e-02 -6.51540682e-02  2.13324167e-02\n",
      "  2.98220739e-02 -3.56650315e-02 -1.14562213e-02 -6.41672313e-02\n",
      "  3.40561084e-02  1.35900611e-02  1.85061283e-02  4.57458608e-02\n",
      "  2.26933323e-02 -3.83201316e-02  1.02677986e-01  2.46024728e-02\n",
      " -2.76253577e-02 -1.25099933e-02 -1.23201562e-02 -6.83875084e-02\n",
      "  1.29090538e-02 -1.55035779e-02 -5.87592274e-02 -4.19779755e-02\n",
      " -1.28534986e-02 -3.79153676e-02 -5.20134345e-02  4.49131057e-02\n",
      "  5.16483001e-02 -1.81278307e-02 -8.09739064e-03  1.15955784e-03\n",
      " -6.01871051e-02  2.71444563e-02 -1.92671572e-03 -7.37606874e-03\n",
      " -5.63421138e-02 -1.16113629e-02  5.05759232e-02 -3.40242013e-02\n",
      " -2.36750040e-02  2.56101210e-02  6.26764307e-03 -1.88226311e-03\n",
      " -1.17351394e-02  1.62611287e-02  2.21226495e-02 -6.06776923e-02\n",
      "  4.68587764e-02 -6.22494658e-03  5.43430354e-03  3.50181013e-02\n",
      "  4.23124060e-02 -3.54954414e-03  2.60240547e-02  1.92347188e-02\n",
      "  1.43841617e-02 -2.85671297e-02  1.68740824e-02  2.93862205e-02\n",
      "  2.70718504e-02  7.55261183e-02  8.50304142e-02 -2.69179523e-01\n",
      " -1.55389647e-03  6.61780545e-03  8.64366442e-03 -7.18412027e-02\n",
      " -4.33050543e-02 -4.11191508e-02  3.47098634e-02  1.21191349e-02\n",
      "  9.28020030e-02  5.53143807e-02  1.12788696e-02 -1.23230750e-02\n",
      "  9.41456929e-02  5.73406555e-03 -7.67926276e-02  2.38202233e-02\n",
      " -2.12229025e-02 -2.07881015e-02 -1.53883628e-03 -6.64361380e-03\n",
      "  1.09858683e-03 -5.69861606e-02 -2.28427071e-02  7.64911696e-02\n",
      " -1.04706865e-02  6.85805902e-02 -4.77103107e-02 -8.27505738e-02\n",
      " -3.71820014e-03 -5.37916794e-02  4.61428240e-02 -1.51714562e-02\n",
      " -1.15709223e-01  6.83009475e-02  1.74376052e-02 -7.59843290e-02\n",
      " -9.12038051e-03 -6.28045276e-02 -3.38083282e-02 -9.23879631e-03\n",
      "  4.82338928e-02 -6.70481473e-02  2.24638693e-02 -1.71070136e-02\n",
      " -5.84935918e-02  3.74358036e-02  7.72249699e-02 -6.75234944e-02\n",
      "  8.86813924e-03  1.09662237e-02 -2.49427427e-02 -2.00862102e-02\n",
      " -1.46261128e-02  2.66519897e-02 -6.21357448e-02 -2.91901398e-02\n",
      "  2.68020686e-02 -1.52352406e-02 -7.41737708e-03  3.47748958e-02\n",
      "  4.37958806e-04  4.17441875e-02 -1.17908567e-02 -7.37499166e-03\n",
      " -4.53234874e-02  3.68853915e-03 -2.21894085e-02 -8.16006809e-02\n",
      "  1.46977985e-02  1.01327552e-02  4.57178168e-02 -3.31007913e-02\n",
      " -1.16769942e-02  2.87452526e-03 -9.24656726e-03  5.36123365e-02\n",
      " -1.26439251e-03 -1.16251186e-02 -5.09654880e-02  5.40338457e-02\n",
      " -5.09404428e-02  1.17273796e-02  4.23680507e-02 -1.64591353e-02\n",
      "  2.86397571e-03  4.26303392e-04 -1.04785594e-03 -5.56171592e-03\n",
      "  1.81074962e-02 -1.96518656e-02 -2.51653176e-02 -1.00064017e-02\n",
      " -3.07634734e-02 -1.33646047e-03  2.74078920e-03 -2.28065625e-01\n",
      "  4.82723229e-02  2.36120038e-02 -1.12394383e-02 -1.08131729e-02\n",
      " -1.18230861e-02 -2.71673016e-02  7.52509339e-03 -1.55817010e-02\n",
      " -2.47901548e-02  4.70631830e-02  7.96824098e-02  1.27833545e-01\n",
      " -1.63246132e-02 -1.44523829e-02 -5.22459345e-03  6.20973371e-02\n",
      " -6.54095551e-03  2.22331285e-02 -3.23943049e-02  4.87980358e-02\n",
      " -5.80380261e-02  1.57769188e-01 -3.94337364e-02  2.50605587e-02\n",
      " -7.99468905e-02 -1.31104086e-02  3.63446288e-02 -3.50948051e-02\n",
      "  1.17586059e-02  1.11300629e-02 -2.05482735e-04  2.77747307e-02\n",
      " -2.74772849e-02  5.55169582e-02  1.40493317e-02  1.28763644e-02\n",
      "  4.60641272e-02  1.10124964e-02  1.48489354e-02 -4.04883660e-02\n",
      " -2.10875422e-02  1.43548502e-02  8.99081025e-03  6.02994747e-02\n",
      " -2.67711319e-02 -5.30605875e-02 -6.01960048e-02  4.91386559e-03\n",
      "  6.60682768e-02  1.81399717e-03 -1.52023165e-02  2.40953825e-03\n",
      "  1.31124873e-02 -4.81967218e-02 -1.91637427e-02 -5.67975007e-02\n",
      "  2.93610077e-02 -9.74009186e-03 -1.55581003e-02  3.25359032e-02\n",
      "  3.58299091e-02 -7.87988082e-02  1.90156680e-02  6.29332289e-02]\n",
      "(384,)\n"
     ]
    }
   ],
   "source": [
    "import numpy as np\n",
    "print(np.array(huggingface_embeddings.embed_query(final_documents[0].page_content)))\n",
    "print(np.array(huggingface_embeddings.embed_query(final_documents[0].page_content)).shape)\n"
   ]
  },
  {
   "cell_type": "code",
   "execution_count": 7,
   "metadata": {},
   "outputs": [],
   "source": [
    "vectorstore=FAISS.from_documents(final_documents[:50],huggingface_embeddings)"
   ]
  },
  {
   "cell_type": "code",
   "execution_count": 8,
   "metadata": {},
   "outputs": [
    {
     "name": "stdout",
     "output_type": "stream",
     "text": [
      "2 U.S. Census Bureau\n",
      "WHAT IS HEALTH INSURANCE COVERAGE?\n",
      "This brief presents state-level estimates of health insurance coverage \n",
      "using data from the American Community Survey (ACS). The  \n",
      "U.S. Census Bureau conducts the ACS throughout the year; the \n",
      "survey asks respondents to report their coverage at the time of \n",
      "interview. The resulting measure of health insurance coverage, \n",
      "therefore, reflects an annual average of current comprehensive \n",
      "health insurance coverage status.* This uninsured rate measures a \n",
      "different concept than the measure based on the Current Population \n",
      "Survey Annual Social and Economic Supplement (CPS ASEC). \n",
      "For reporting purposes, the ACS broadly classifies health insurance \n",
      "coverage as private insurance or public insurance. The ACS defines \n",
      "private health insurance as a plan provided through an employer \n",
      "or a union, coverage purchased directly by an individual from an \n",
      "insurance company or through an exchange (such as healthcare.\n"
     ]
    }
   ],
   "source": [
    "## Query using Similarity Search\n",
    "query=\"WHAT IS HEALTH INSURANCE COVERAGE?\"\n",
    "relevant_docments=vectorstore.similarity_search(query)\n",
    "\n",
    "print(relevant_docments[0].page_content)"
   ]
  },
  {
   "cell_type": "code",
   "execution_count": 9,
   "metadata": {},
   "outputs": [
    {
     "name": "stdout",
     "output_type": "stream",
     "text": [
      "tags=['FAISS', 'HuggingFaceEmbeddings'] vectorstore=<langchain_community.vectorstores.faiss.FAISS object at 0x000001B9D44A0700> search_kwargs={'k': 3}\n"
     ]
    }
   ],
   "source": [
    "retriever=vectorstore.as_retriever(search_type=\"similarity\",search_kwargs={\"k\":3})\n",
    "print(retriever)"
   ]
  },
  {
   "cell_type": "code",
   "execution_count": 10,
   "metadata": {},
   "outputs": [
    {
     "data": {
      "text/plain": [
       "\"\\n\\nThe health insurance coverage for each person may vary depending on their individual circumstances, including their age, health status, income, and employment situation. Here are some common types of health insurance coverage:\\n\\n1. Employer-sponsored insurance: Many employers offer health insurance coverage as a benefit to their employees. This type of insurance is typically paid for in part or in full by the employer, and the employee may be required to contribute a portion of the premium through payroll deductions.\\n2. Individual and family plans: Individuals and families can purchase health insurance coverage on their own through the Affordable Care Act (ACA) marketplace or from private insurers. These plans may be more expensive than employer-sponsored insurance, and the cost and availability of coverage may vary depending on the individual's location and health status.\\n3. Medicare: Medicare is a federal health insurance program for people over the age of 65, as well as some people with disabilities and certain chronic conditions. Medicare covers a wide range of health services, including hospitalization, physician services, and prescription drugs.\\n4. Medicaid: Medicaid is a state-federal health insurance program for low-income individuals and families, as well as certain other populations, such as pregnant women, children, and people with disabilities. Medicaid covers a wide range of health services, including doctor visits, hospitalization, and prescription drugs.\\n5. TRICARE: TRICARE is a health care program for active-duty military personnel, retirees, and their families. It offers comprehensive health and dental coverage, and there are different plans available depending on the individual's eligibility and location.\\n\\nIt's important to note that the specific details of each type of health insurance coverage can vary widely, so it's important to carefully review the terms and conditions of any plan before enrolling. Additionally, the Affordable Care Act (ACA) has created new requirements for health insurance plans, including minimum essential coverage and essential health benefits, which can help ensure that individuals have access to a certain level of coverage.\""
      ]
     },
     "execution_count": 10,
     "metadata": {},
     "output_type": "execute_result"
    }
   ],
   "source": [
    "query = \"What is the health insurance coverage?\"\n",
    "hf_endpoint.invoke(query)"
   ]
  },
  {
   "cell_type": "code",
   "execution_count": 11,
   "metadata": {},
   "outputs": [],
   "source": [
    "prompt_template=\"\"\"\n",
    "Use the following piece of context to answer the question asked.\n",
    "Please try to provide the answer only based on the context\n",
    "\n",
    "{context}\n",
    "Question:{question}\n",
    "\n",
    "Helpful Answers:\n",
    " \"\"\"\n"
   ]
  },
  {
   "cell_type": "code",
   "execution_count": 12,
   "metadata": {},
   "outputs": [],
   "source": [
    "prompt=PromptTemplate(template=prompt_template,input_variables=[\"context\",\"question\"])"
   ]
  },
  {
   "cell_type": "code",
   "execution_count": 13,
   "metadata": {},
   "outputs": [],
   "source": [
    "retrievalQA=RetrievalQA.from_chain_type(\n",
    "    llm=hf_endpoint,\n",
    "    chain_type=\"stuff\",\n",
    "    retriever=retriever,\n",
    "    return_source_documents=True,\n",
    "    chain_type_kwargs={\"prompt\":prompt}\n",
    ")"
   ]
  },
  {
   "cell_type": "code",
   "execution_count": 14,
   "metadata": {},
   "outputs": [],
   "source": [
    "\n",
    "query=\"\"\"DIFFERENCES IN THE\n",
    "UNINSURED RATE BY STATE\n",
    "IN 2022\"\"\""
   ]
  },
  {
   "cell_type": "code",
   "execution_count": 15,
   "metadata": {},
   "outputs": [
    {
     "name": "stdout",
     "output_type": "stream",
     "text": [
      "1. In 2022, the uninsured rate was lower in states that had expanded Medicaid eligibility than in states that did not. Specifically, the uninsured rate was 22.7% in expansion states and 18.0% in nonexpansion states.\n",
      " 2. From 2021 to 2022, 27 states saw a decrease in their uninsured rates, while only Maine had an increase. Maine's uninsured rate increased from 5.7% to 6.6%, but remained below the national average.\n",
      " 3. Massachusetts had the lowest uninsured rate in 2022, while Texas had the highest.\n",
      " 4. Utah had the highest private coverage and lowest public coverage rate in 2022, while New Mexico had the highest public coverage and lowest private coverage rate.\n",
      " 5. There were no statistically significant differences in private coverage rates between North Dakota and Utah in 2022.\n",
      " 6. The American Community Survey is a source of information on the uninsured rate and coverage types by state and metropolitan area.\n"
     ]
    }
   ],
   "source": [
    "\n",
    "# Call the QA chain with our query.\n",
    "result = retrievalQA.invoke({\"query\": query})\n",
    "print(result['result'])"
   ]
  },
  {
   "cell_type": "code",
   "execution_count": null,
   "metadata": {},
   "outputs": [],
   "source": []
  }
 ],
 "metadata": {
  "kernelspec": {
   "display_name": "venv",
   "language": "python",
   "name": "python3"
  },
  "language_info": {
   "codemirror_mode": {
    "name": "ipython",
    "version": 3
   },
   "file_extension": ".py",
   "mimetype": "text/x-python",
   "name": "python",
   "nbconvert_exporter": "python",
   "pygments_lexer": "ipython3",
   "version": "3.10.11"
  }
 },
 "nbformat": 4,
 "nbformat_minor": 2
}
